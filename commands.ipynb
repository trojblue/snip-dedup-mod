{
 "cells": [
  {
   "cell_type": "code",
   "execution_count": null,
   "id": "abb95833-8b53-41c9-bfb2-658b41c89473",
   "metadata": {},
   "outputs": [],
   "source": [
    "aws s3 mv ./ s3://dataset-laion/laion2b-en-dupes/metadata-img-features/ --recursive --exclude \"*\" --include \"*.parquet\"\n"
   ]
  },
  {
   "cell_type": "code",
   "execution_count": null,
   "id": "844b5aab-3d45-4892-875b-d1b4a7e9ae08",
   "metadata": {},
   "outputs": [],
   "source": [
    "snip download --start 878 --end 1000 --dl_dedup_set False\n",
    "snip download --start 1000 --end 1100 --dl_dedup_set False\n",
    "snip download --start 1100 --end 1200 --dl_dedup_set False\n",
    "snip download --start 1200 --end 1300 --dl_dedup_set False"
   ]
  },
  {
   "cell_type": "code",
   "execution_count": null,
   "id": "f33d6f05-d79b-4a54-a219-dccde4d31e50",
   "metadata": {},
   "outputs": [],
   "source": [
    "snip download --start 1678 --end 1800 --dl_dedup_set False\n",
    "snip download --start 1800 --end 2000 --dl_dedup_set False"
   ]
  },
  {
   "cell_type": "code",
   "execution_count": null,
   "id": "84e41fe7-e5c0-48f1-a603-290f9a01d8b9",
   "metadata": {},
   "outputs": [],
   "source": [
    "snip download --start 2000 --dl_dedup_set False"
   ]
  },
  {
   "cell_type": "markdown",
   "id": "22b9ae6d-5666-41f5-8ba1-e279dc295c44",
   "metadata": {
    "tags": []
   },
   "source": [
    "## Dupe Only\n",
    "(代码修改过)"
   ]
  },
  {
   "cell_type": "markdown",
   "id": "00e617bb-e064-4038-b8cb-139985277fdb",
   "metadata": {},
   "source": [
    "这些需要重新上传:\n",
    "```\n",
    "move: ./metadata_0000.parquet to s3://dataset-laion/laion2b-en-deduped/metadata-img-features/metadata_0000.parquet\n",
    "move: ./metadata_0004.parquet to s3://dataset-laion/laion2b-en-deduped/metadata-img-features/metadata_0004.parquet\n",
    "move: ./metadata_0003.parquet to s3://dataset-laion/laion2b-en-deduped/metadata-img-features/metadata_0003.parquet\n",
    "move: ./metadata_0010.parquet to s3://dataset-laion/laion2b-en-deduped/metadata-img-features/metadata_0010.parquet\n",
    "move: ./metadata_0001.parquet to s3://dataset-laion/laion2b-en-deduped/metadata-img-features/metadata_0001.parquet\n",
    "move: ./metadata_0002.parquet to s3://dataset-laion/laion2b-en-deduped/metadata-img-features/metadata_0002.parquet\n",
    "move: ./metadata_0009.parquet to s3://dataset-laion/laion2b-en-deduped/metadata-img-features/metadata_0009.parquet\n",
    "move: ./metadata_0006.parquet to s3://dataset-laion/laion2b-en-deduped/metadata-img-features/metadata_0006.parquet\n",
    "move: ./metadata_0007.parquet to s3://dataset-laion/laion2b-en-deduped/metadata-img-features/metadata_0007.parquet\n",
    "move: ./metadata_0005.parquet to s3://dataset-laion/laion2b-en-deduped/metadata-img-features/metadata_0005.parquet\n",
    "move: ./metadata_0011.parquet to s3://dataset-laion/laion2b-en-deduped/metadata-img-features/metadata_0011.parquet\n",
    "move: ./metadata_0013.parquet to s3://dataset-laion/laion2b-en-deduped/metadata-img-features/metadata_0013.parquet\n",
    "move: ./metadata_0012.parquet to s3://dataset-laion/laion2b-en-deduped/metadata-img-features/metadata_0012.parquet\n",
    "move: ./metadata_0008.parquet to s3://dataset-laion/laion2b-en-deduped/metadata-img-features/metadata_0008.parquet\n",
    "move: ./metadata_0015.parquet to s3://dataset-laion/laion2b-en-deduped/metadata-img-features/metadata_0015.parquet\n",
    "move: ./metadata_0017.parquet to s3://dataset-laion/laion2b-en-deduped/metadata-img-features/metadata_0017.parquet\n",
    "move: ./metadata_0014.parquet to s3://dataset-laion/laion2b-en-deduped/metadata-img-features/metadata_0014.parquet\n",
    "move: ./metadata_0018.parquet to s3://dataset-laion/laion2b-en-deduped/metadata-img-features/metadata_0018.parquet\n",
    "move: ./metadata_1000.parquet to s3://dataset-laion/laion2b-en-deduped/metadata-img-features/metadata_1000.parquet\n",
    "move: ./metadata_1001.parquet to s3://dataset-laion/laion2b-en-deduped/metadata-img-features/metadata_1001.parquet\n",
    "move: ./metadata_1008.parquet to s3://dataset-laion/laion2b-en-deduped/metadata-img-features/metadata_1008.parquet\n",
    "move: ./metadata_0019.parquet to s3://dataset-laion/laion2b-en-deduped/metadata-img-features/metadata_0019.parquet\n",
    "move: ./metadata_1007.parquet to s3://dataset-laion/laion2b-en-deduped/metadata-img-features/metadata_1007.parquet\n",
    "move: ./metadata_1003.parquet to s3://dataset-laion/laion2b-en-deduped/metadata-img-features/metadata_1003.parquet\n",
    "move: ./metadata_1002.parquet to s3://dataset-laion/laion2b-en-deduped/metadata-img-features/metadata_1002.parquet\n",
    "move: ./metadata_1009.parquet to s3://dataset-laion/laion2b-en-deduped/metadata-img-features/metadata_1009.parquet\n",
    "move: ./metadata_0016.parquet to s3://dataset-laion/laion2b-en-deduped/metadata-img-features/metadata_0016.parquet\n",
    "```"
   ]
  },
  {
   "cell_type": "code",
   "execution_count": null,
   "id": "0d7b7b58-374e-4b70-80fe-e85c77558d1f",
   "metadata": {},
   "outputs": [],
   "source": [
    "python snip_download.py --start 0 --end 1000\n",
    "python snip_download.py --start 1000 --end 2313 --dl_dedup_set False"
   ]
  },
  {
   "cell_type": "code",
   "execution_count": null,
   "id": "a59cd69d-7d6b-4b49-b1c7-be0aae561b23",
   "metadata": {},
   "outputs": [],
   "source": [
    "aws s3 mv ./ s3://dataset-laion/laion2b-en-dupes/metadata-img-features/ --recursive --exclude \"*\" --include \"*.parquet\""
   ]
  },
  {
   "cell_type": "markdown",
   "id": "6a2ec9a1-f397-4f3d-aa7f-eb0746e25c54",
   "metadata": {},
   "source": [
    "## Reorder"
   ]
  },
  {
   "cell_type": "code",
   "execution_count": null,
   "id": "412619b9-0de4-484b-8b59-c6f161677fca",
   "metadata": {},
   "outputs": [],
   "source": [
    "reorder-embeddings reorder --help\n",
    "reorder-embeddings reorder --output-folder ~/clip/reorder  --embeddings-folder ~/clip/embeds  --metadata-folder ~/clip/metas"
   ]
  },
  {
   "cell_type": "code",
   "execution_count": 1,
   "id": "9240fdeb-f085-4075-9726-719954f505e1",
   "metadata": {
    "tags": []
   },
   "outputs": [],
   "source": [
    "import os\n",
    "import pandas as pd\n",
    "import numpy as np\n",
    "from img2dataset import download\n",
    "from clip_retrieval import clip_inference\n",
    "import time\n",
    "import plotext as plt\n",
    "from collections import OrderedDict\n",
    "\n",
    "\n",
    "def get_example_key(metadata_folder=\"./\"):\n",
    "    \"\"\"\n",
    "    Prints example keys for the metadata\n",
    "    \"\"\"\n",
    "    from_each = 2\n",
    "    example_parquets = os.listdir(metadata_folder)\n",
    "    # Filter for parquets\n",
    "    example_parquets = [name for name in example_parquets if \".parquet\" in name]\n",
    "    example_keys = {}\n",
    "    for example_parquet in example_parquets:\n",
    "        shard = int(example_parquet.split(\"_\")[-1].split(\".\")[0])\n",
    "        example_keys[shard] = []\n",
    "        df = pd.read_parquet(os.path.join(metadata_folder, example_parquet))\n",
    "        example_rows = df.sample(n=from_each)\n",
    "        for _, row in example_rows.iterrows():\n",
    "            if \"image_path\" in row:\n",
    "                example_keys[shard].append(row.image_path)\n",
    "            elif \"key\" in row:\n",
    "                example_keys[shard].append(row.key)\n",
    "            else:\n",
    "                raise Exception(\"No key or image_path in row. Maybe img2dataset changed its output? Raise an issue on the github repo.\")\n",
    "    print(\"Example Keys:\")\n",
    "    for shard, keys in example_keys.items():\n",
    "        print(f\"Shard {shard} has keys {keys}\")"
   ]
  },
  {
   "cell_type": "code",
   "execution_count": 4,
   "id": "53bdc1ba-9e1f-4def-81c0-f87f101f68ec",
   "metadata": {
    "tags": []
   },
   "outputs": [
    {
     "name": "stdout",
     "output_type": "stream",
     "text": [
      "Example Keys:\n",
      "Shard 0 has keys ['0000000073', '0000000144']\n"
     ]
    }
   ],
   "source": [
    "get_example_key(\"/home/ubuntu/embedding-dataset-reordering/examples/test_data\")"
   ]
  },
  {
   "cell_type": "code",
   "execution_count": 1,
   "id": "f415b5b7-d45f-4545-8130-d3a98422a646",
   "metadata": {
    "tags": []
   },
   "outputs": [
    {
     "name": "stdout",
     "output_type": "stream",
     "text": [
      "hi\n"
     ]
    }
   ],
   "source": [
    "print(\"hi\")"
   ]
  },
  {
   "cell_type": "markdown",
   "id": "5be38823-fd73-4e70-9bd5-f4ab9cb8cac3",
   "metadata": {},
   "source": [
    "## inspect"
   ]
  },
  {
   "cell_type": "code",
   "execution_count": 5,
   "id": "c5c1df2d-3b54-46da-ba56-8dda556f6f78",
   "metadata": {
    "tags": []
   },
   "outputs": [
    {
     "name": "stdout",
     "output_type": "stream",
     "text": [
      "10000\n"
     ]
    }
   ],
   "source": [
    "import numpy as np\n",
    "\n",
    "sample_npy = \"/home/ubuntu/clip/reorder/img_emb_185120.npy\"\n",
    "data = np.load(sample_npy)\n",
    "\n",
    "# Print the number of \"lines\" (length of the array)\n",
    "print(len(data))"
   ]
  },
  {
   "cell_type": "markdown",
   "id": "1615eb1b-e45b-441b-bbc0-977364b5e3bf",
   "metadata": {},
   "source": [
    "## reorder 2\n",
    "\n",
    "width=1000:"
   ]
  },
  {
   "cell_type": "code",
   "execution_count": null,
   "id": "86c905fc-e58d-4437-871b-6040d442efef",
   "metadata": {},
   "outputs": [],
   "source": [
    "reorder-embeddings reorder --output-folder ~/clip/reorder  --embeddings-folder ~/clip/embeds  --metadata-folder ~/clip/metas --index-width 3"
   ]
  },
  {
   "cell_type": "code",
   "execution_count": 17,
   "id": "f3eb6101-5b59-4647-9668-994a8b53d1de",
   "metadata": {
    "tags": []
   },
   "outputs": [
    {
     "name": "stdout",
     "output_type": "stream",
     "text": [
      "1000\n"
     ]
    }
   ],
   "source": [
    "import numpy as np\n",
    "sample_npy = \"/home/ubuntu/clip/reorder/img_emb_002244588.npy\"\n",
    "data = np.load(sample_npy)\n",
    "print(len(data))"
   ]
  },
  {
   "cell_type": "code",
   "execution_count": null,
   "id": "be0e5097-0c79-4df3-adfd-8dc3463f0266",
   "metadata": {},
   "outputs": [],
   "source": [
    "reorder-embeddings reorder --output-folder ~/clip/reorder  --embeddings-folder ~/clip/embeds  --metadata-folder ~/clip/metas --index-width 3 --output-shard-width 9"
   ]
  },
  {
   "cell_type": "code",
   "execution_count": 18,
   "id": "a3f47925-083d-4f8e-b71e-83e3ee73772f",
   "metadata": {
    "tags": []
   },
   "outputs": [
    {
     "name": "stdout",
     "output_type": "stream",
     "text": [
      "2169580984\n"
     ]
    }
   ],
   "source": [
    "import numpy as np\n",
    "sample_npy = \"/home/ubuntu/snip-dedup/snip_dedup/data/downloaded/is_dup_mlp_1024_128_gelu_snn_2layer_notext.npy\"\n",
    "data = np.load(sample_npy)\n",
    "print(len(data))"
   ]
  },
  {
   "cell_type": "code",
   "execution_count": 19,
   "id": "0aff5f95-9150-4374-93cd-42daf8b1ca62",
   "metadata": {},
   "outputs": [
    {
     "name": "stdout",
     "output_type": "stream",
     "text": [
      "Number of duplicate images: 549237094\n"
     ]
    }
   ],
   "source": [
    "import numpy as np\n",
    "\n",
    "# Load the deduplication numpy array\n",
    "dedup_array = np.load(\"/home/ubuntu/snip-dedup/snip_dedup/data/downloaded/is_dup_mlp_1024_128_gelu_snn_2layer_notext.npy\")\n",
    "\n",
    "# Sum the array to get the number of duplicates\n",
    "duplicate_count = np.sum(dedup_array)\n",
    "\n",
    "print(f\"Number of duplicate images: {duplicate_count}\")"
   ]
  },
  {
   "cell_type": "markdown",
   "id": "3dfa6818-da61-40a7-a9c8-11a15ece95df",
   "metadata": {},
   "source": [
    "## 查看总图片数"
   ]
  },
  {
   "cell_type": "code",
   "execution_count": 23,
   "id": "b9c92251-942f-46f4-af4d-7263781d1d1d",
   "metadata": {
    "tags": []
   },
   "outputs": [
    {
     "data": {
      "application/vnd.jupyter.widget-view+json": {
       "model_id": "c436b21a67d645339639a2acba49d1bb",
       "version_major": 2,
       "version_minor": 0
      },
      "text/plain": [
       "  0%|          | 0/2313 [00:00<?, ?it/s]"
      ]
     },
     "metadata": {},
     "output_type": "display_data"
    },
    {
     "name": "stdout",
     "output_type": "stream",
     "text": [
      "67470471\n"
     ]
    }
   ],
   "source": [
    "from tqdm.auto import tqdm\n",
    "import os\n",
    "import pandas as pd\n",
    "\n",
    "def count_entries_in_parquets(dir_path):\n",
    "    \"\"\"Count total entries in all parquet files in a directory\"\"\"\n",
    "    \n",
    "    total_entries = 0\n",
    "    \n",
    "    # list all files in the directory\n",
    "    files = os.listdir(dir_path)\n",
    "    \n",
    "    # iterate over each file\n",
    "    for file in tqdm(files):\n",
    "        # check if the file is a parquet file\n",
    "        if file.endswith(\".parquet\"):\n",
    "            # construct full file path\n",
    "            file_path = os.path.join(dir_path, file)\n",
    "            # read the parquet file into a pandas dataframe\n",
    "            df = pd.read_parquet(file_path)\n",
    "            # add the number of rows in the dataframe to the total\n",
    "            total_entries += len(df)\n",
    "            \n",
    "    return total_entries\n",
    "\n",
    "# usage\n",
    "snipped_dir = \"/home/ubuntu/snipped-parquets\"\n",
    "print(count_entries_in_parquets(snipped_dir))"
   ]
  },
  {
   "cell_type": "code",
   "execution_count": null,
   "id": "930606c5-f7af-4263-bda3-60bf5cfcdc0e",
   "metadata": {},
   "outputs": [],
   "source": [
    "## 修改后重新下载\n"
   ]
  }
 ],
 "metadata": {
  "kernelspec": {
   "display_name": "Python 3 (ipykernel)",
   "language": "python",
   "name": "python3"
  },
  "language_info": {
   "codemirror_mode": {
    "name": "ipython",
    "version": 3
   },
   "file_extension": ".py",
   "mimetype": "text/x-python",
   "name": "python",
   "nbconvert_exporter": "python",
   "pygments_lexer": "ipython3",
   "version": "3.10.11"
  }
 },
 "nbformat": 4,
 "nbformat_minor": 5
}
